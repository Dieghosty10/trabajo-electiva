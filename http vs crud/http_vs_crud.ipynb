{
 "cells": [
  {
   "cell_type": "markdown",
   "id": "b6bd4082",
   "metadata": {},
   "source": [
    "HTTP\n",
    "\n",
    "(Hypertext Transfer Protocol) es un protocolo de comunicación que permite la transferencia de datos en la web."
   ]
  },
  {
   "cell_type": "markdown",
   "id": "29c7e95e",
   "metadata": {},
   "source": [
    "____"
   ]
  },
  {
   "cell_type": "markdown",
   "id": "fee52465",
   "metadata": {},
   "source": [
    "Características principales:\n",
    "\n",
    "\n",
    "✅ Basado en solicitud-respuesta:\n",
    "\n",
    "El cliente (navegador, app) envía una petición (request).\n",
    "\n",
    "El servidor responde con una respuesta (response).\n",
    "\n",
    "✅ Métodos principales (verbos HTTP):\n",
    "\n",
    "GET: Solicitar datos (ej: cargar una página web).\n",
    "\n",
    "POST: Enviar datos para crear o procesar (ej: enviar un formulario).\n",
    "\n",
    "PUT/PATCH: Actualizar un recurso existente.\n",
    "\n",
    "DELETE: Eliminar un recurso.\n",
    "\n",
    "HEAD, OPTIONS, etc. (menos comunes).\n",
    "\n",
    "✅ Sin estado (stateless):\n",
    "\n",
    "Cada petición es independiente (no guarda información previa).\n",
    "\n",
    "✅ Usado en:\n",
    "\n",
    "Páginas web, APIs RESTful, microservicios."
   ]
  },
  {
   "cell_type": "markdown",
   "id": "2edaf762",
   "metadata": {},
   "source": [
    "___"
   ]
  },
  {
   "cell_type": "markdown",
   "id": "249fd58a",
   "metadata": {},
   "source": [
    "Ejemplo de una petición HTTP:"
   ]
  },
  {
   "cell_type": "code",
   "execution_count": null,
   "id": "8730157b",
   "metadata": {},
   "outputs": [],
   "source": [
    "GET /api/users HTTP/1.1\n",
    "Host: ejemplo.com"
   ]
  },
  {
   "cell_type": "markdown",
   "id": "18a020de",
   "metadata": {},
   "source": [
    "_____"
   ]
  },
  {
   "cell_type": "markdown",
   "id": "cf6b7cc1",
   "metadata": {},
   "source": [
    "CRUD \n",
    "\n",
    "(Create, Read, Update, Delete) es un conjunto de operaciones básicas para gestionar datos en sistemas persistentes (como bases de datos o APIs)."
   ]
  },
  {
   "cell_type": "markdown",
   "id": "9ef329df",
   "metadata": {},
   "source": [
    "| Operación CRUD | Método HTTP | Ejemplo de Endpoint      |\n",
    "|----------------|------------|--------------------------|\n",
    "| **Create**     | `POST`     | `POST /api/users`        |\n",
    "| **Read**       | `GET`      | `GET /api/users/1`       |\n",
    "| **Update**     | `PUT`      | `PUT /api/users/1`       |\n",
    "| **Delete**     | `DELETE`   | `DELETE /api/users/1`    |"
   ]
  },
  {
   "cell_type": "markdown",
   "id": "32319eea",
   "metadata": {},
   "source": [
    "| Operación | Ejemplo SQL                      | Descripción                     |\n",
    "|-----------|----------------------------------|---------------------------------|\n",
    "| **Create** | `INSERT INTO users (name) VALUES (\"Ana\");` | Añade un nuevo registro. |\n",
    "| **Read**   | `SELECT * FROM users;`           | Consulta datos existentes.      |\n",
    "| **Update** | `UPDATE users SET name=\"Luis\" WHERE id=1;` | Modifica un registro.   |\n",
    "| **Delete** | `DELETE FROM users WHERE id=1;`  | Elimina un registro.            |"
   ]
  },
  {
   "cell_type": "markdown",
   "id": "79bf6254",
   "metadata": {},
   "source": [
    "___"
   ]
  },
  {
   "cell_type": "markdown",
   "id": "a1da3d8f",
   "metadata": {},
   "source": [
    "Tabla Comparativa HTTP vs CRUD"
   ]
  },
  {
   "cell_type": "markdown",
   "id": "2372e7f6",
   "metadata": {},
   "source": [
    "| Característica         | HTTP (Protocolo)                          | CRUD (Operaciones)                     |\n",
    "|------------------------|------------------------------------------|----------------------------------------|\n",
    "| **Propósito**          | Protocolo de comunicación web            | Operaciones básicas de persistencia    |\n",
    "| **Métodos/Operaciones**| GET, POST, PUT, DELETE, HEAD, OPTIONS    | Create, Read, Update, Delete           |\n",
    "| **Nivel**              | Protocolo de aplicación (capa 7 OSI)     | Patrón de diseño/operaciones           |\n",
    "| **Estado**             | Stateless (sin estado)                   | Depende de la implementación           |\n",
    "| **Uso típico**         | Transferencia de datos en la web         | Gestión de datos en bases de datos/APIs|\n",
    "| **Relación**           | Proporciona los métodos para CRUD        | Se implementa sobre HTTP en APIs REST  |\n",
    "| **Ejemplo**           | `GET https://api.com/users`              | `SELECT * FROM users`                  |"
   ]
  }
 ],
 "metadata": {
  "kernelspec": {
   "display_name": "Python 3",
   "language": "python",
   "name": "python3"
  },
  "language_info": {
   "codemirror_mode": {
    "name": "ipython",
    "version": 3
   },
   "file_extension": ".py",
   "mimetype": "text/x-python",
   "name": "python",
   "nbconvert_exporter": "python",
   "pygments_lexer": "ipython3",
   "version": "3.11.8"
  }
 },
 "nbformat": 4,
 "nbformat_minor": 5
}
